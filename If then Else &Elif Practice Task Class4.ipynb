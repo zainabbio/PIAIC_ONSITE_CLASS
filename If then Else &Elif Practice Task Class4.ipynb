{
 "cells": [
  {
   "cell_type": "raw",
   "metadata": {},
   "source": [
    "1) A company decided to give bonus of 5% to employee if his/her year of service is more than 5 years.\n",
    "Ask user for their salary and year of service and print the net bonus amount."
   ]
  },
  {
   "cell_type": "code",
   "execution_count": 84,
   "metadata": {},
   "outputs": [
    {
     "name": "stdout",
     "output_type": "stream",
     "text": [
      "Congratulations company has given you bonus of 5% , so now your salary equals 10500.0\n"
     ]
    }
   ],
   "source": [
    "#Type your code here\n",
    "salary = int(input(\"Enter your salary: \"))\n",
    "years_of_service = int(input(\"Enter total years of service: \"))\n",
    "\n",
    "if years_of_service > 5:\n",
    "    bonus = salary + (salary * 5 / 100)\n",
    "    print(f\"Congratulations company has given you bonus of 5% , so now your salary equals {bonus}\")\n",
    "else: \n",
    "    print(\"You could not get the bonus because you lack experience yet! Sorry\")\n",
    "\n"
   ]
  },
  {
   "cell_type": "markdown",
   "metadata": {},
   "source": [
    "\n",
    "2) Write a program to check whether a person is eligible for voting or not. (accept age from user)"
   ]
  },
  {
   "cell_type": "code",
   "execution_count": 85,
   "metadata": {},
   "outputs": [
    {
     "name": "stdout",
     "output_type": "stream",
     "text": [
      "You are eligible to vote!\n"
     ]
    }
   ],
   "source": [
    "#Type your code here\n",
    "age = int(input(\"Enter your age kindly: \"))\n",
    "\n",
    "if age > 18:\n",
    "    print(\"You are eligible to vote!\")\n",
    "else:\n",
    "    print(\"You can not eligigble to vote!\")"
   ]
  },
  {
   "cell_type": "markdown",
   "metadata": {},
   "source": [
    "\n",
    "3) Write a program to check whether a number entered by user is even or odd."
   ]
  },
  {
   "cell_type": "code",
   "execution_count": 3,
   "metadata": {},
   "outputs": [
    {
     "name": "stdout",
     "output_type": "stream",
     "text": [
      "Enter any integer number: -4\n",
      "-4  is an even number\n"
     ]
    }
   ],
   "source": [
    "#Type your code here\n",
    "number = int(input(\"Enter any integer number: \"))\n",
    "\n",
    "if number % 2 == 0:\n",
    "    print(number, \" is an even number\")\n",
    "else:\n",
    "    print(\"This is a odd number\")"
   ]
  },
  {
   "cell_type": "markdown",
   "metadata": {},
   "source": [
    "4) Write a program to check whether a number is divisible by 7 or not.\n",
    "Show Answer"
   ]
  },
  {
   "cell_type": "code",
   "execution_count": 24,
   "metadata": {},
   "outputs": [
    {
     "name": "stdout",
     "output_type": "stream",
     "text": [
      "This number is divisible by 7 successfully!\n"
     ]
    }
   ],
   "source": [
    "#Type your code here\n",
    "number = 5813758906431\n",
    "\n",
    "if number % 7 == 0:\n",
    "    print(\"This number is divisible by 7 successfully!\")\n",
    "else:\n",
    "    print(\"This num is not divisible by 7!\")"
   ]
  },
  {
   "cell_type": "raw",
   "metadata": {},
   "source": [
    "5) Write a program to display \n",
    "\"Hello\" if a number entered by user is a multiple of five , otherwise print \"Bye\"."
   ]
  },
  {
   "cell_type": "code",
   "execution_count": 30,
   "metadata": {},
   "outputs": [
    {
     "name": "stdout",
     "output_type": "stream",
     "text": [
      "Bye!\n"
     ]
    }
   ],
   "source": [
    "#Type your code here\n",
    "num = int(input(\"Enter a number: \"))\n",
    "\n",
    "if num % 5 == 0:\n",
    "    print(\"Hello!\")\n",
    "else:\n",
    "    print(\"Bye!\")"
   ]
  },
  {
   "cell_type": "raw",
   "metadata": {},
   "source": [
    "6) Write a program to calculate the electricity bill (accept number of unit from user) according to the following criteria :\n",
    "     Unit                                                     Price  \n",
    "uptp 100 units                                             no charge\n",
    "Next 200 units                                              Rs 5 per unit\n",
    "After 200 units                                             Rs 10 per unit\n",
    "(For example if input unit is 350 than total bill amount is Rs.3500\n",
    "(For example if input unit is 97 than total bill amount is Rs.0\n",
    "(For example if input unit is 150 than total bill amount is Rs.750"
   ]
  },
  {
   "cell_type": "code",
   "execution_count": 6,
   "metadata": {},
   "outputs": [
    {
     "name": "stdout",
     "output_type": "stream",
     "text": [
      "Enter the number of units consumed: 500\n",
      "Your total bill amount is Rs.5000\n"
     ]
    }
   ],
   "source": [
    "#Type your code here\n",
    "units = int(input(\"Enter the number of units consumed: \"))\n",
    "\n",
    "if units <= 100:\n",
    "    print(\"No Rupees are charged on you! Your total bill amount is Rs.0\")\n",
    "elif units > 100 and units <= 200:\n",
    "    total = units * 5\n",
    "    print(f\"Your total bill amount is Rs.{total}\")\n",
    "else:\n",
    "    total = units * 10\n",
    "    print(f\"Your total bill amount is Rs.{total}\")\n",
    "    "
   ]
  },
  {
   "cell_type": "code",
   "execution_count": 9,
   "metadata": {},
   "outputs": [
    {
     "name": "stdout",
     "output_type": "stream",
     "text": [
      "Enter the number of units consumed: 97\n"
     ]
    },
    {
     "ename": "TypeError",
     "evalue": "func() missing 1 required positional argument: 'units'",
     "output_type": "error",
     "traceback": [
      "\u001b[1;31m---------------------------------------------------------------------------\u001b[0m",
      "\u001b[1;31mTypeError\u001b[0m                                 Traceback (most recent call last)",
      "Input \u001b[1;32mIn [9]\u001b[0m, in \u001b[0;36m<cell line: 5>\u001b[1;34m()\u001b[0m\n\u001b[0;32m      2\u001b[0m     \u001b[38;5;28;01mreturn\u001b[39;00m units \u001b[38;5;241m*\u001b[39m \u001b[38;5;241m5\u001b[39m \u001b[38;5;28;01mif\u001b[39;00m units \u001b[38;5;241m>\u001b[39m \u001b[38;5;241m100\u001b[39m \u001b[38;5;129;01mand\u001b[39;00m units \u001b[38;5;241m<\u001b[39m\u001b[38;5;241m=\u001b[39m \u001b[38;5;241m200\u001b[39m \u001b[38;5;28;01melse\u001b[39;00m \u001b[38;5;28mprint\u001b[39m(\u001b[38;5;124mf\u001b[39m\u001b[38;5;124m\"\u001b[39m\u001b[38;5;124mYour total bill amount is Rs.\u001b[39m\u001b[38;5;132;01m{\u001b[39;00mtotal\u001b[38;5;132;01m}\u001b[39;00m\u001b[38;5;124m\"\u001b[39m)\n\u001b[0;32m      4\u001b[0m units \u001b[38;5;241m=\u001b[39m \u001b[38;5;28mint\u001b[39m(\u001b[38;5;28minput\u001b[39m(\u001b[38;5;124m\"\u001b[39m\u001b[38;5;124mEnter the number of units consumed: \u001b[39m\u001b[38;5;124m\"\u001b[39m))\n\u001b[1;32m----> 5\u001b[0m \u001b[43mfunc\u001b[49m\u001b[43m(\u001b[49m\u001b[43m)\u001b[49m\n",
      "\u001b[1;31mTypeError\u001b[0m: func() missing 1 required positional argument: 'units'"
     ]
    }
   ],
   "source": [
    "def func(units):\n",
    "    return units * 5 if units > 100 and units <= 200 else print(f\"Your total bill amount is Rs.{total}\")\n",
    "\n",
    "units = int(input(\"Enter the number of units consumed: \"))\n",
    "func()"
   ]
  },
  {
   "cell_type": "raw",
   "metadata": {},
   "source": [
    "7) Write a program to display the last digit of a number.\n"
   ]
  },
  {
   "cell_type": "code",
   "execution_count": 52,
   "metadata": {},
   "outputs": [
    {
     "name": "stdout",
     "output_type": "stream",
     "text": [
      "The last digit of this number is: 8\n"
     ]
    }
   ],
   "source": [
    "#Type your code here\n",
    "number = 50039234808\n",
    "\n",
    "last_digit = number % 10\n",
    "\n",
    "print(f\"The last digit of this number is: {last_digit}\")\n"
   ]
  },
  {
   "cell_type": "raw",
   "metadata": {},
   "source": [
    "\n",
    "Q8. Write a program to check whether the last digit of a number( entered by user ) is \n",
    "divisible by 3 or not."
   ]
  },
  {
   "cell_type": "code",
   "execution_count": 64,
   "metadata": {},
   "outputs": [
    {
     "name": "stdout",
     "output_type": "stream",
     "text": [
      "The last digit is not possible to divivde by 3\n"
     ]
    }
   ],
   "source": [
    "#Type your code here\n",
    "number = int(input(\"Enter a number: \"))\n",
    "\n",
    "last_digit = number % 10\n",
    "\n",
    "if last_digit % 3 == 0:\n",
    "    print(\"The last digit is divisible by 3 successfully!\")\n",
    "else:\n",
    "    print(\"The last digit is not possible to divivde by 3\")"
   ]
  },
  {
   "cell_type": "raw",
   "metadata": {},
   "source": [
    "9) Take values of length and breadth of a rectangle from user and check if it is square or not."
   ]
  },
  {
   "cell_type": "code",
   "execution_count": 78,
   "metadata": {},
   "outputs": [
    {
     "name": "stdout",
     "output_type": "stream",
     "text": [
      "No , It is only a Rectangle\n"
     ]
    }
   ],
   "source": [
    "#Type your code here\n",
    "length = input(\"Enter the length value: \")\n",
    "breadth = input(\"Enter the breadth value: \")\n",
    "\n",
    "\n",
    "if length == breadth:\n",
    "    print(\"Yes, It is a square\")\n",
    "else:\n",
    "    print(\"No , It is only a Rectangle\")"
   ]
  },
  {
   "cell_type": "raw",
   "metadata": {},
   "source": [
    "10) Take two int values from user and print greatest among them."
   ]
  },
  {
   "cell_type": "code",
   "execution_count": 77,
   "metadata": {},
   "outputs": [
    {
     "name": "stdout",
     "output_type": "stream",
     "text": [
      "The 56756 is greater than 5657\n"
     ]
    }
   ],
   "source": [
    "# Type your code here\n",
    "num_1 = int(input(\"Enter first number: \"))\n",
    "num_2 = int(input(\"Enter second number: \"))\n",
    "\n",
    "if num_1 > num_2:\n",
    "    print(f\"The {num_1} is greater than {num_2}\")\n",
    "elif num_2 > num_1:\n",
    "    print(f\"The {num_2} is greater than {num_1}\")\n",
    "else:\n",
    "    print(\"Its a coincidence both numbers are equal!\")"
   ]
  },
  {
   "cell_type": "raw",
   "metadata": {},
   "source": [
    "11) A shop will give discount of 10% if the cost of purchased quantity is more than 1000.\n",
    "Ask user for quantity\n",
    "Suppose, one unit will cost 100.\n",
    "Judge and print total cost for user."
   ]
  },
  {
   "cell_type": "code",
   "execution_count": 99,
   "metadata": {},
   "outputs": [
    {
     "name": "stdout",
     "output_type": "stream",
     "text": [
      "After discount, Your total price now becomes 1350.0, and your original price was : 1500\n"
     ]
    }
   ],
   "source": [
    "#Type your code here\n",
    "quantity = int(input(\"Enter your total quantity: \"))\n",
    "\n",
    "price = quantity * 100\n",
    "\n",
    "if price > 1000:\n",
    "    discount = price - (price * 10 / 100)\n",
    "    print(f\"After discount, Your total price now becomes {discount}, and your original price was : {price}\")\n",
    "else:\n",
    "    print(\"You did not get any discount because your quantity is less than 1000\")"
   ]
  },
  {
   "cell_type": "raw",
   "metadata": {},
   "source": [
    "12) A school has following rules for grading system:\n",
    "\n",
    "a. Below 25 - F\n",
    "\n",
    "b. 25 to 45 - E\n",
    "\n",
    "c. 45 to 50 - D\n",
    "\n",
    "d. 50 to 60 - C\n",
    "\n",
    "e. 60 to 80 - B\n",
    "\n",
    "f. Above 80 - A\n",
    "\n",
    "Ask user to enter marks and print the corresponding grade."
   ]
  },
  {
   "cell_type": "code",
   "execution_count": 104,
   "metadata": {},
   "outputs": [
    {
     "name": "stdout",
     "output_type": "stream",
     "text": [
      "Your Grade is B. Great!\n"
     ]
    }
   ],
   "source": [
    "#Type your code here\n",
    "marks = int(input(\"Enter your marks to check your Grade: \"))\n",
    "\n",
    "if marks >= 80:\n",
    "    print(\"Your grade is A. Congrats!\")\n",
    "elif marks >= 60:\n",
    "    print(\"Your Grade is B. Great!\")\n",
    "elif marks >= 50:\n",
    "    print(\"Your Grade is C. Fine!\")\n",
    "elif marks >= 45:\n",
    "    print(\"Your Grade is D. Try harder next time!\")\n",
    "elif marks >= 25:\n",
    "    print(\"Your Grade is E. Atleast you passed!\")\n",
    "else:\n",
    "    print(\"Your Grade is F. Better luck next time!\")"
   ]
  },
  {
   "cell_type": "raw",
   "metadata": {},
   "source": [
    "13) Take input of age of 3 people by user and determine oldest and youngest among them."
   ]
  },
  {
   "cell_type": "code",
   "execution_count": 109,
   "metadata": {},
   "outputs": [
    {
     "name": "stdout",
     "output_type": "stream",
     "text": [
      "\n",
      "Person 3 is the oldest\n",
      "Person 1 is the youngest\n"
     ]
    }
   ],
   "source": [
    "#Type your code here\n",
    "age1 = int(input(\"Enter age Person 1: \"))\n",
    "age2 = int(input(\"Enter age Person 2: \"))\n",
    "age3 = int(input(\"Enter age Person 3: \"))\n",
    "print()\n",
    "if (age1 > age2) & (age1 > age3):\n",
    "    print('Person 1 is the oldest')\n",
    "    if age2 < age3:\n",
    "        print('Person 2 is the youngest')\n",
    "    else:\n",
    "        print('Person 3 is the youngest')\n",
    "elif (age2 > age1) & (age2 > age3):\n",
    "    print('Person 2 is the oldest')\n",
    "    if age1 < age3:\n",
    "        print('Person 1 is the youngest')\n",
    "    else:\n",
    "        print('Person 3 is the youngest')\n",
    "else:\n",
    "    print('Person 3 is the oldest')\n",
    "    if age1 < age2:\n",
    "        print('Person 1 is the youngest')\n",
    "    else:\n",
    "        print('Person 2 is the youngest')\n",
    "    "
   ]
  },
  {
   "cell_type": "raw",
   "metadata": {},
   "source": [
    "14)A student will not be allowed to sit in exam if his/her attendence is less than 75%.\n",
    "\n",
    "Take following input from user\n",
    "\n",
    "Number of classes held\n",
    "\n",
    "Number of classes attended.\n",
    "\n",
    "And print\n",
    "\n",
    "percentage of class attended\n",
    "\n",
    "Is student is allowed to sit in exam or not.\n"
   ]
  },
  {
   "cell_type": "code",
   "execution_count": 8,
   "metadata": {},
   "outputs": [
    {
     "name": "stdout",
     "output_type": "stream",
     "text": [
      "Enter noch: 10\n",
      "Enter noca: 7\n",
      "The student is not Allowed to sit in the Exam because Attendence is 70% which is less than 75%\n"
     ]
    }
   ],
   "source": [
    "#Type your code here\n",
    "number_of_classes_held = int(input(\"Enter noch: \"))\n",
    "number_of_classes_attended = int(input(\"Enter noca: \"))\n",
    "\n",
    "percantage_of_attendence = number_of_classes_attended / number_of_classes_held * 100\n",
    "\n",
    "if percantage_of_attendence < 75:\n",
    "    print(f\"The student is not Allowed to sit in the Exam because Attendence is {int(percantage_of_attendence)}% which is less than 75%\")\n",
    "else:\n",
    "    print(f\"Student can sit in the Exam because attendence is {int(percantage_of_attendence)}% which is enough to be allowed!\")"
   ]
  },
  {
   "cell_type": "raw",
   "metadata": {},
   "source": [
    "15) Modify the above question to allow student to sit if he/she has medical cause. Ask user if he/she has medical cause or not ( 'Y' or 'N' ) and print accordingly."
   ]
  },
  {
   "cell_type": "code",
   "execution_count": 2,
   "metadata": {},
   "outputs": [
    {
     "name": "stdout",
     "output_type": "stream",
     "text": [
      "Enter noch: 10\n",
      "Enter noca: 4\n",
      "Does Student have any medical issue , Enter 'Y' for yes and 'N' for No: Y\n",
      "Student is allowed to sit in the Exam only due to Medical Reasons!\n"
     ]
    }
   ],
   "source": [
    "#Type your code here\n",
    "#Type your code here\n",
    "number_of_classes_held = int(input(\"Enter noch: \"))\n",
    "number_of_classes_attended = int(input(\"Enter noca: \"))\n",
    "\n",
    "percantage_of_attendence = number_of_classes_attended / number_of_classes_held * 100\n",
    "\n",
    "medical_cause = input(\"Does Student have any medical issue , Enter 'Y' for yes and 'N' for No: \")\n",
    "\n",
    "if percantage_of_attendence < 75 and medical_cause == 'N':\n",
    "    print(\"The student is not Allowed to sit in the Exam because Attendence is short and less than 75%\")\n",
    "elif percantage_of_attendence < 75 and medical_cause == 'Y':\n",
    "    print(\"Student is allowed to sit in the Exam only due to Medical Reasons!\")\n",
    "else:\n",
    "    print(\"Student can sit in the Exam because attendence is complete!\")\n"
   ]
  },
  {
   "cell_type": "raw",
   "metadata": {},
   "source": [
    "16) Write a program to check if a year is leap year or not.\n",
    "\n",
    "If a year is divisible by 4 then it is leap year but if the year is century year like 2000, 1900, 2100 then it must be divisible by 400."
   ]
  },
  {
   "cell_type": "code",
   "execution_count": 119,
   "metadata": {},
   "outputs": [
    {
     "name": "stdout",
     "output_type": "stream",
     "text": [
      "This is a leap year!\n"
     ]
    }
   ],
   "source": [
    "#Type your code here\n",
    "year = int(input(\"Enter year you want to check: \"))\n",
    "\n",
    "if year % 4 == 0 or year % 400 == 0:\n",
    "    print(\"This is a leap year!\")\n",
    "else: \n",
    "    print(\"This is not a leap year!\")"
   ]
  },
  {
   "cell_type": "raw",
   "metadata": {},
   "source": [
    "17) Ask user to enter age, gender ( M or F ), marital status ( Y or N ) and then using following rules print their place of service.\n",
    "\n",
    "if employee is female, then she will work only in urban areas.\n",
    "\n",
    "if employee is a male and age is in between 20 to 40 then he may work in anywhere\n",
    "\n",
    "if employee is male and age is in between 40 t0 60 then he will work in urban areas only.\n",
    "\n",
    "And any other input of age should print \"ERROR\""
   ]
  },
  {
   "cell_type": "code",
   "execution_count": 122,
   "metadata": {},
   "outputs": [
    {
     "name": "stdout",
     "output_type": "stream",
     "text": [
      "ERROR!\n"
     ]
    }
   ],
   "source": [
    "#Type your code here\n",
    "age = int(input(\"Enter your age kindly: \"))\n",
    "gender = input(\"Enter your gender 'M' for Male and 'F' for Female: \")\n",
    "marital_status = input(\"Enter 'Y' for yes if you are married else 'N' for No: \")\n",
    "\n",
    "\n",
    "if gender == 'F':\n",
    "    print(\"Female employees are only allowed to work in urban area!\")\n",
    "elif age > 20 and age <= 40 and gender == 'M':\n",
    "    print(\"Male between 20 to 40 can work anywhere they want or like!\")\n",
    "elif age > 40 and age <= 60 and gender == 'M':\n",
    "    print(\"Male between 40 to 60 are allowed to work in urban areas only\")\n",
    "else:\n",
    "    print(\"ERROR!\")"
   ]
  },
  {
   "cell_type": "code",
   "execution_count": null,
   "metadata": {},
   "outputs": [],
   "source": []
  }
 ],
 "metadata": {
  "kernelspec": {
   "display_name": "Python 3 (ipykernel)",
   "language": "python",
   "name": "python3"
  },
  "language_info": {
   "codemirror_mode": {
    "name": "ipython",
    "version": 3
   },
   "file_extension": ".py",
   "mimetype": "text/x-python",
   "name": "python",
   "nbconvert_exporter": "python",
   "pygments_lexer": "ipython3",
   "version": "3.9.12"
  }
 },
 "nbformat": 4,
 "nbformat_minor": 2
}
