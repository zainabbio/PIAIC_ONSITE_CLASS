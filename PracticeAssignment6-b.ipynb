{
 "cells": [
  {
   "cell_type": "markdown",
   "id": "ac6f64a4",
   "metadata": {},
   "source": [
    "##### Task1: Mean \n",
    "Breifly decribe the term <b>Mean</b> (<i>dont write formula that sum of all numbers divide by total numbers) </i>\n",
    "Try to present some statistical view of mean(Average).\n",
    "You need to find the mean Average of the array(list). Not built-in function is allowed to use. \n",
    "\n",
    "Example : if user supplies a list [2,3,4,5,5,4,6,7,8,9]\n",
    "\n",
    "The output should be:\n",
    "\n",
    "The mean of the array [2,3,4,5,5,4,6,7,8,9] is 5.3"
   ]
  },
  {
   "cell_type": "code",
   "execution_count": 61,
   "id": "93002a67",
   "metadata": {},
   "outputs": [
    {
     "name": "stdout",
     "output_type": "stream",
     "text": [
      "Enter supplies numbers in comma sep form: 2,3,4,5,5,4,6,7,8,9\n",
      "The mean of the array [2, 3, 4, 5, 5, 4, 6, 7, 8, 9] is 5.3\n"
     ]
    }
   ],
   "source": [
    "#Your Code goes here\n",
    "total = 0\n",
    "Mean = 0\n",
    "count = 0\n",
    "inputs = input(\"Enter supplies numbers in comma sep form: \").split(\",\")\n",
    "test = [int(i) for i in inputs]\n",
    "for ele in test[0:]:\n",
    "    total = total + ele\n",
    "    count += 1\n",
    "    Mean = total / count\n",
    "print(f\"The mean of the array {test} is {Mean}\")"
   ]
  },
  {
   "cell_type": "markdown",
   "id": "52bedbb9",
   "metadata": {},
   "source": [
    "#### Task2: Median\n",
    "    \n",
    "Breifly decribe the term <b>Median</b> (<i>dont write mathematical formula</i>)\n",
    "\n",
    "You need to find the Median of the array(list). Not built-in function is allowed to use.\n",
    "\n",
    "Example : if user supplies a list [2,3,4,5,5,4,6,7,8,9]\n",
    "\n",
    "The output should be:\n",
    "\n",
    "The median of the array [2,3,4,5,5,4,6,7,8,9] is 5.\n",
    "    "
   ]
  },
  {
   "cell_type": "code",
   "execution_count": 1,
   "id": "0f10f151",
   "metadata": {},
   "outputs": [
    {
     "name": "stdout",
     "output_type": "stream",
     "text": [
      "Enter numbers here in comma seperated form: 2,3,4,5,5,4,6,7,8,9\n",
      "The median of the array [2, 3, 4, 5, 5, 4, 6, 7, 8, 9] is 4\n"
     ]
    }
   ],
   "source": [
    "#Your code goes here \n",
    "c = 0\n",
    "median = 0\n",
    "integr = [int(i) for i in input(\"Enter numbers here in comma seperated form: \").split(\",\")]\n",
    "for i in integr[0:]:\n",
    "    c = c + 1\n",
    "    if c % 2 == 0:\n",
    "        median1 = integr[c//2]\n",
    "        median2 = integr[c//2 - 1]\n",
    "        median = (median1 + median2)//2\n",
    "    else:\n",
    "        median = integr[c//2]\n",
    "        \n",
    "print(f\"The median of the array {integr} is {median}\")"
   ]
  },
  {
   "cell_type": "markdown",
   "id": "41484d7c",
   "metadata": {},
   "source": [
    "#### Task3: Mode \n",
    "Breifly decribe the term <b>Mode</b> (<i>dont write mathematical formula</i>)\n",
    "\n",
    "You need to find the Mode of the array(list). Not built-in function is allowed to use.\n",
    "\n",
    "Example : if user supplies a list [2,3,4,5,3,4,6,7,3,9]\n",
    "\n",
    "The output should be:\n",
    "\n",
    "The median of the array [2,3,4,5,3,4,6,7,8,3] is 3."
   ]
  },
  {
   "cell_type": "code",
   "execution_count": 16,
   "id": "8766da28",
   "metadata": {},
   "outputs": [
    {
     "name": "stdout",
     "output_type": "stream",
     "text": [
      "Enter comma seperated list numbers: 3,4,5,3,2,2,5,7,8,9,0\n",
      "[0, 2, 2, 3, 3, 4, 5, 5, 7, 8, 9]\n",
      "The mode of the list [0, 2, 2, 3, 3, 4, 5, 5, 7, 8, 9] is []\n"
     ]
    }
   ],
   "source": [
    "mylist = [int(m) for m in input(\"Enter comma seperated list numbers: \").split(\",\")]\n",
    "new_list = []\n",
    "mod = []\n",
    "\n",
    "#for sorting the list   (if it is unsorted)\n",
    "for x in range(len(mylist)):\n",
    "    for y in range(x+1, len(mylist)):\n",
    "        if mylist[x] > mylist[y]:\n",
    "            mylist[x], mylist[y] = mylist[y], mylist[x]\n",
    "            \n",
    "print(mylist)\n",
    "\n",
    "#for already sorted list\n",
    "for x in range(len(mylist)):\n",
    "    for y in range(x+1, len(mylist)):\n",
    "        if mylist[x] == mylist[y]:\n",
    "            new_list.append(mylist[x])\n",
    "            break\n",
    "            \n",
    "for x in range(len(new_list)):\n",
    "    for y in range(x+1,len(new_list)):\n",
    "        if new_list[x] == new_list[y]:\n",
    "            mod.append(new_list[x])\n",
    "            break\n",
    "            \n",
    "print(f\"The mode of the list {mylist} is {mod}\")   #there is a problem if there are more than 2 numbers appearing same time then it will give empty output"
   ]
  },
  {
   "cell_type": "markdown",
   "id": "ad6fee2a",
   "metadata": {},
   "source": [
    "#### Task4: Sorting an array in ascending order\n",
    "If user supplies an array(list) like arr = [5, 2, 8, 7, 1]. \n",
    "\n",
    "\n",
    "The output should be like:\n",
    "\n",
    "Elements of original array: \n",
    "5 2 8 7 1 \n",
    "\n",
    "Elements of array sorted in ascending order: \n",
    "1 2 5 7 8 \n",
    "\n",
    "Note: We need to write our own sorting algorithm using sort function of list is not acceptable."
   ]
  },
  {
   "cell_type": "code",
   "execution_count": 12,
   "id": "c857c8ba",
   "metadata": {
    "scrolled": true
   },
   "outputs": [
    {
     "name": "stdout",
     "output_type": "stream",
     "text": [
      "Enter numbers here in comma seperated form: 5,2,8,7,1\n",
      "\n",
      "Elements of original array:  5 2 8 7 1 \n",
      "\n",
      "Elements of array sorted in ascending order:  1 2 5 7 8 "
     ]
    }
   ],
   "source": [
    "#Your code goes here \n",
    "temporary = 0\n",
    "nums = [int(i) for i in input(\"Enter numbers here in comma seperated form: \").split(\",\")]\n",
    "print()\n",
    "print(\"Elements of original array: \", end=\" \")\n",
    "for n in nums[0:]:  \n",
    "    print(n, end=\" \")\n",
    "    \n",
    "for n in range(0, len(nums)):  \n",
    "    for m in range(n+1, len(nums)):  \n",
    "        if(nums[n] > nums[m]):  \n",
    "            temporary = nums[n]  \n",
    "            nums[n] = nums[m]  \n",
    "            nums[m] = temporary  \n",
    "print()\n",
    "print()\n",
    "\n",
    "print(\"Elements of array sorted in ascending order: \", end=\" \");  \n",
    "for n in nums[0:]:  \n",
    "    print(n , end=\" \");  "
   ]
  },
  {
   "cell_type": "markdown",
   "id": "b3134432",
   "metadata": {},
   "source": [
    "#### Task5: Sorting an array in descending order\n",
    "\n",
    "If user supplies an array(list) like arr = [5, 2, 8, 7, 1]. \n",
    "\n",
    "\n",
    "The output should be like:\n",
    "\n",
    "Elements of original array: \n",
    "5 2 8 7 1 \n",
    "\n",
    "Elements of array sorted in ascending order: \n",
    "8 7 5 2 1 \n",
    "\n",
    "Note: We need to write our own sorting algorithm. Using sort function of list is not acceptable.\n"
   ]
  },
  {
   "cell_type": "code",
   "execution_count": 49,
   "id": "70452f62",
   "metadata": {},
   "outputs": [
    {
     "name": "stdout",
     "output_type": "stream",
     "text": [
      "Enter numbers here in comma seperated form: 5,2,8,7,1\n",
      "\n",
      "Elements of original array:  5 2 8 7 1 \n",
      "\n",
      "Elements of array sorted in descending order:  8 7 5 2 1 "
     ]
    }
   ],
   "source": [
    "#Your code goes here \n",
    "temp = 0\n",
    "numbers = [int(i) for i in input(\"Enter numbers here in comma seperated form: \").split(\",\")]\n",
    "print()\n",
    "print(\"Elements of original array: \", end=\" \")\n",
    "for num in numbers[0:]:  \n",
    "    print(num, end=\" \")\n",
    "    \n",
    "for num in range(0, len(numbers)):  \n",
    "    for num2 in range(num+1, len(numbers)):  \n",
    "        if(numbers[num] < numbers[num2]):  \n",
    "            temp = numbers[num]  \n",
    "            numbers[num] = numbers[num2]  \n",
    "            numbers[num2] = temp \n",
    "print()\n",
    "print()\n",
    "\n",
    "print(\"Elements of array sorted in descending order: \", end=\" \");  \n",
    "for num in numbers[0:]:  \n",
    "    print(num , end=\" \");  "
   ]
  },
  {
   "cell_type": "markdown",
   "id": "fe5691a5",
   "metadata": {},
   "source": [
    "#### Task6: Finding the max of the inputted array \n",
    "\n",
    "If user supplies an array(list) like arr = [5, 2, 8, 7, 1]. \n",
    "\n",
    "\n",
    "The output should be like:\n",
    "\n",
    "Max value in the array is 8\n",
    "\n",
    "Note: We need to write our own max algorithm. use of python max function is not acceptable. "
   ]
  },
  {
   "cell_type": "code",
   "execution_count": 54,
   "id": "89ab79e3",
   "metadata": {},
   "outputs": [
    {
     "name": "stdout",
     "output_type": "stream",
     "text": [
      "Enter numbers here in comma seperated form: 5,2,8,7,1\n",
      "Max value in the array is 8\n"
     ]
    }
   ],
   "source": [
    "# Your code goes here\n",
    "input_nums = [int(i) for i in input(\"Enter numbers here in comma seperated form: \").split(\",\")]\n",
    "maximum = 0\n",
    "for num in input_nums:\n",
    "    if num > maximum:\n",
    "        maximum = num\n",
    "print(f\"Max value in the array is {maximum}\")"
   ]
  },
  {
   "cell_type": "markdown",
   "id": "04c3bb05",
   "metadata": {},
   "source": [
    "#### Task7: Finding the min of the inputted array\n",
    "If user supplies an array(list) like arr = [5, 2, 8, 7, 1].\n",
    "\n",
    "The output should be like:\n",
    "\n",
    "Min value in the array is 1\n",
    "\n",
    "Note: We need to write our own min algorithm. use of python min function is not acceptable."
   ]
  },
  {
   "cell_type": "code",
   "execution_count": 64,
   "id": "36abc9e4",
   "metadata": {},
   "outputs": [
    {
     "name": "stdout",
     "output_type": "stream",
     "text": [
      "Enter numbers here in comma seperated form: 5,2,8,7,1\n",
      "Min value in the array is 1\n"
     ]
    }
   ],
   "source": [
    "#Your code goes here \n",
    "input_numbers = [int(i) for i in input(\"Enter numbers here in comma seperated form: \").split(\",\")]\n",
    "minimum = input_numbers[0]\n",
    "for number in input_numbers:\n",
    "    if number < minimum:\n",
    "        minimum = number\n",
    "print(f\"Min value in the array is {minimum}\")"
   ]
  },
  {
   "cell_type": "code",
   "execution_count": null,
   "id": "7c856b2b",
   "metadata": {},
   "outputs": [],
   "source": []
  }
 ],
 "metadata": {
  "kernelspec": {
   "display_name": "Python 3 (ipykernel)",
   "language": "python",
   "name": "python3"
  },
  "language_info": {
   "codemirror_mode": {
    "name": "ipython",
    "version": 3
   },
   "file_extension": ".py",
   "mimetype": "text/x-python",
   "name": "python",
   "nbconvert_exporter": "python",
   "pygments_lexer": "ipython3",
   "version": "3.9.12"
  }
 },
 "nbformat": 4,
 "nbformat_minor": 5
}
