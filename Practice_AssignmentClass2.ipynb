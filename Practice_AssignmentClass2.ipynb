{
 "cells": [
  {
   "cell_type": "markdown",
   "metadata": {},
   "source": [
    "# Topic: print()"
   ]
  },
  {
   "cell_type": "markdown",
   "metadata": {},
   "source": [
    "1) Using the python print function print any string value, integer value, boolean value, float value in single print command"
   ]
  },
  {
   "cell_type": "code",
   "execution_count": 7,
   "metadata": {},
   "outputs": [
    {
     "name": "stdout",
     "output_type": "stream",
     "text": [
      "I am Sajjal, My age is 22, my weight is 70.5 and this is all True\n"
     ]
    }
   ],
   "source": [
    "# type your code here\n",
    "name = \"Sajjal\"\n",
    "age = 22\n",
    "weight = 70.5\n",
    "boolean = True\n",
    "\n",
    "print(f\"I am {name}, My age is {age}, my weight is {weight} and this is all {boolean}\")"
   ]
  },
  {
   "cell_type": "markdown",
   "metadata": {},
   "source": [
    "2) Using the python print function print hyphon(-) separated any string value, integer value, boolean value, float value in single print command"
   ]
  },
  {
   "cell_type": "code",
   "execution_count": 18,
   "metadata": {},
   "outputs": [
    {
     "name": "stdout",
     "output_type": "stream",
     "text": [
      "I am Sajjal- My age is 22- my weight is 70.5- this is all True\n"
     ]
    }
   ],
   "source": [
    "# type your code here\n",
    "name = \"Sajjal\"\n",
    "age = 22\n",
    "weight = 70.5\n",
    "boolean = True\n",
    "\n",
    "print(\"I am \" + name ,  \" My age is \" + str(age) ,  \" my weight is \" + str(weight) , \" this is all \" + str(boolean) , sep=\"-\")"
   ]
  },
  {
   "cell_type": "markdown",
   "metadata": {},
   "source": [
    "3) Using the python print function print any string value, integer value, boolean value, float value in separate print command.\n",
    "But every value must be space separated and in single line "
   ]
  },
  {
   "cell_type": "code",
   "execution_count": 21,
   "metadata": {},
   "outputs": [
    {
     "name": "stdout",
     "output_type": "stream",
     "text": [
      "hello  23  467.909056  True\n"
     ]
    }
   ],
   "source": [
    "# type your code here\n",
    "print(\"hello\", end=\"  \")\n",
    "print(23, end=\"  \")\n",
    "print(467.909056, end=\"  \")\n",
    "print(True)"
   ]
  },
  {
   "cell_type": "markdown",
   "metadata": {},
   "source": [
    "4) Can a python print function take no value to print???"
   ]
  },
  {
   "cell_type": "code",
   "execution_count": null,
   "metadata": {},
   "outputs": [],
   "source": [
    "# type your answer here\n",
    "The Python print() function takes in any number of parameters, and prints them out on one line of text."
   ]
  },
  {
   "cell_type": "markdown",
   "metadata": {},
   "source": [
    "# TOPIC :Variables in Python Operators"
   ]
  },
  {
   "cell_type": "markdown",
   "metadata": {},
   "source": [
    "5) One of my friends name is Mr. Ahmed. He is 30 years old.  He is a lawer by profession. He has done his bachelors in law in the year 2005. He is working with a reputable law firm 'The Himalya Associates' in Karachi since 2015.\n",
    "He is a handsome lawer with height of 5.10 feets and weight 70600g. His monthly income is Rs. 200k PKR.\n",
    "\n",
    "Note: Create variables from above text and also assign values from the text.  "
   ]
  },
  {
   "cell_type": "code",
   "execution_count": 1,
   "metadata": {},
   "outputs": [],
   "source": [
    "#type your code here\n",
    "name = \"Mr Ahmed\"\n",
    "age = 30\n",
    "profession = \"Lawyer\"\n",
    "qualification = \"Bechalors in Law\"\n",
    "graduation_year = 2005\n",
    "law_firm_name = \"The Himalya Associates\"\n",
    "firm_city = \"Karachi\"\n",
    "firm_joining_year = 2015\n",
    "height_in_ft = 5.10\n",
    "weight_in_g = 70600\n",
    "salary_in_pkr = 200000"
   ]
  },
  {
   "cell_type": "markdown",
   "metadata": {},
   "source": [
    "6)How many years has been to Mr. Ahmed after his bachelors degree? Create a variable that hold current year value and then subtract it from his passout year"
   ]
  },
  {
   "cell_type": "code",
   "execution_count": 65,
   "metadata": {},
   "outputs": [
    {
     "data": {
      "text/plain": [
       "17"
      ]
     },
     "execution_count": 65,
     "metadata": {},
     "output_type": "execute_result"
    }
   ],
   "source": [
    "#type your code here \n",
    "current_year = 2022\n",
    "total_time = current_year - passout_year\n",
    "total_time"
   ]
  },
  {
   "cell_type": "markdown",
   "metadata": {},
   "source": [
    "7) How many years has Mr. Ahmed been working with law firm 'The Himalya Associates'. Create necesary variables and print the correct number of years in working in the firm"
   ]
  },
  {
   "cell_type": "code",
   "execution_count": 66,
   "metadata": {},
   "outputs": [
    {
     "name": "stdout",
     "output_type": "stream",
     "text": [
      "He has been woring for 7 for that firm until now!\n"
     ]
    }
   ],
   "source": [
    "#type your code here \n",
    "years_passed = current_year - firm_joining_year\n",
    "print(f\"He has been woring for {years_passed} for that firm until now!\")"
   ]
  },
  {
   "cell_type": "markdown",
   "metadata": {},
   "source": [
    "8)Convert the monthly income of Mr. Ahmed in dollars.  Create necesary variables and print the income in dollars."
   ]
  },
  {
   "cell_type": "code",
   "execution_count": 67,
   "metadata": {},
   "outputs": [
    {
     "name": "stdout",
     "output_type": "stream",
     "text": [
      "His salary in dollars equals to 836.0312759300325$\n"
     ]
    }
   ],
   "source": [
    "#type your code here \n",
    "pkr_to_dollar = salary / 239.2255\n",
    "print(f\"His salary in dollars equals to {pkr_to_dollar}$\")"
   ]
  },
  {
   "cell_type": "markdown",
   "metadata": {},
   "source": [
    "9) Check if the income in dollars is a float or integer value. if it is float, re-write the code so that income gets converted in integer. print the income in integer type value"
   ]
  },
  {
   "cell_type": "code",
   "execution_count": 68,
   "metadata": {
    "scrolled": true
   },
   "outputs": [
    {
     "name": "stdout",
     "output_type": "stream",
     "text": [
      "His salary in dollars equals to 836$\n"
     ]
    }
   ],
   "source": [
    "#type your code here \n",
    "pkr_to_dollar = int(salary / 239.2255)\n",
    "print(f\"His salary in dollars equals to {pkr_to_dollar}$\")"
   ]
  },
  {
   "cell_type": "raw",
   "metadata": {},
   "source": [
    "10) Print the type of Mr. Ahmed's weight. Convert the weight of Mr. Ahmed in kg so that weight must be a integer value. "
   ]
  },
  {
   "cell_type": "code",
   "execution_count": 73,
   "metadata": {},
   "outputs": [
    {
     "name": "stdout",
     "output_type": "stream",
     "text": [
      "Mr Ahmed's weight is 70 KGs\n"
     ]
    }
   ],
   "source": [
    "#type your code here \n",
    "print(f\"Mr Ahmed's weight is {int(weight/1000)} KGs\")"
   ]
  },
  {
   "cell_type": "raw",
   "metadata": {},
   "source": [
    "11) print the year of birth of Mr. Ahmed."
   ]
  },
  {
   "cell_type": "code",
   "execution_count": null,
   "metadata": {},
   "outputs": [],
   "source": [
    "#type your code here\n",
    "print(\"Mr Ahmed was born in year 1992 according to current year\")"
   ]
  },
  {
   "cell_type": "markdown",
   "metadata": {},
   "source": [
    "12) Can Rs. 100 be divided equally among 6 students? \n",
    "HINT: % operator"
   ]
  },
  {
   "cell_type": "code",
   "execution_count": 77,
   "metadata": {},
   "outputs": [
    {
     "name": "stdout",
     "output_type": "stream",
     "text": [
      "We get the remainder  4\n"
     ]
    }
   ],
   "source": [
    "#type your code here \n",
    "modulu = 100 % 6\n",
    "print(\"We get the remainder \",modulu)"
   ]
  },
  {
   "cell_type": "code",
   "execution_count": null,
   "metadata": {},
   "outputs": [],
   "source": []
  }
 ],
 "metadata": {
  "kernelspec": {
   "display_name": "Python 3 (ipykernel)",
   "language": "python",
   "name": "python3"
  },
  "language_info": {
   "codemirror_mode": {
    "name": "ipython",
    "version": 3
   },
   "file_extension": ".py",
   "mimetype": "text/x-python",
   "name": "python",
   "nbconvert_exporter": "python",
   "pygments_lexer": "ipython3",
   "version": "3.9.12"
  }
 },
 "nbformat": 4,
 "nbformat_minor": 2
}
