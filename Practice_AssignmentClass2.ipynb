﻿
    1) Using the python print function print any string value, integer value, boolean value, float value in single print command
   ]
  },
  {
   cell_type: code,
   execution_count: 1,
   metadata: {},
   outputs: [
    {
     name: stdout,
     output_type: stream,
     text: [
      hello world 1 0.1\n
     ]
    }
   ],
   source: [
    # type your code here\n,
    print(\hello world\,1,0.1)
   ]
  },
  {
   cell_type: markdown,
   metadata: {},
   source: [
    2) Using the python print function print hyphon(-) separated any string value, integer value, boolean value, float value in single print command
   ]
  },
  {
   cell_type: code,
   execution_count: 2,
   metadata: {},
   outputs: [
    {
     name: stdout,
     output_type: stream,
     text: [
      hello-world\n
     ]
    }
   ],
   source: [
    # type your code here\n,
    print(\hello-world\)
   ]
  },
  {
   cell_type: markdown,
   metadata: {},
   source: [
    3) Using the python print function print any string value, integer value, boolean value, float value in separate print command.\n,
    But every value must be space separated and in single line 
   ]
  },
  {
   cell_type: code,
   execution_count: 3,
   metadata: {},
   outputs: [
    {
     name: stdout,
     output_type: stream,
     text: [
      hello world hello world\n
     ]
    }
   ],
   source: [
    # type your code here\n,
    print(\hello world\,end=\ \)\n,
    print(\hello world\)
   ]
  },
  {
   cell_type: markdown,
   metadata: {},
   source: [
    4) Can a python print function take no value to print???
   ]
  },
  {
   cell_type: code,
   execution_count: 4,
   metadata: {},
   outputs: [
    {
     name: stdout,
     output_type: stream,
     text: [
      \n
     ]
    }
   ],
   source: [
    # type your answer here\n,
    print()
   ]
  },
  {
   cell_type: markdown,
   metadata: {},
   source: [
    # TOPIC :Variables in Python Operators
   ]
  },
  {
   cell_type: markdown,
   metadata: {},
   source: [
    5) One of my friends name is Mr. Ahmed. He is 30 years old.  He is a lawer by profession. He has done his bachelors in law in the year 2005. He is working with a reputable law firm 'The Himalya Associates' in Karachi since 2015.\n,
    He is a handsome lawer with height of 5.10 feets and weight 70600g. His monthly income is Rs. 200k PKR.\n,
    \n,
    Note: Create variables from above text and also assign values from the text.  
   ]
  },
  {
   cell_type: code,
   execution_count: 9,
   metadata: {},
   outputs: [],
   source: [
    #type your code here\n,
    name = \Mr Ahmed\\n,
    age = 30\n,
    profession = \lawyer\\n,
    qualification= 'bachelors'\n,
    organization = 'the himalya associates'\n,
    height = 5.10\n,
    weight = 70600\n,
    income = 200000\n,
    passout = 2002\n,
    working= 2015
   ]
  },
  {
   cell_type: markdown,
   metadata: {},
   source: [
    6)How many years has been to Mr. Ahmed after his bachelors degree? Create a variable that hold current year value and then subtract it from his passout year
   ]
  },
  {
   cell_type: code,
   execution_count: 8,
   metadata: {},
   outputs: [
    {
     name: stdout,
     output_type: stream,
     text: [
      20\n
     ]
    }
   ],
   source: [
    #type your code here \n,
    cy= 2022\n,
    print(cy-passout)
   ]
  },
  {
   cell_type: markdown,
   metadata: {},
   source: [
    7) How many years has Mr. Ahmed been working with law firm 'The Himalya Associates'. Create necesary variables and print the correct number of years in working in the firm
   ]
  },
  {
   cell_type: code,
   execution_count: 12,
   metadata: {},
   outputs: [
    {
     name: stdout,
     output_type: stream,
     text: [
      7\n
     ]
    }
   ],
   source: [
    #type your code here \n,
    print(cy-working)
   ]
  },
  {
   cell_type: markdown,
   metadata: {},
   source: [
    8)Convert the monthly income of Mr. Ahmed in dollars.  Create necesary variables and print the income in dollars.
   ]
  },
  {
   cell_type: code,
   execution_count: 14,
   metadata: {},
   outputs: [
    {
     name: stdout,
     output_type: stream,
     text: [
      44800000\n
     ]
    }
   ],
   source: [
    #type your code here \n,
    income_in_dollars=income*224\n,
    print(income_in_dollars)
   ]
  },
  {
   cell_type: markdown,
   metadata: {},
   source: [
    9) Check if the income in dollars is a float or integer value. if it is float, re-write the code so that income gets converted in integer. print the income in integer type value
   ]
  },
  {
   cell_type: code,
   execution_count: 15,
   metadata: {},
   outputs: [
    {
     data: {
      text/plain: [
       int
      ]
     },
     execution_count: 15,
     metadata: {},
     output_type: execute_result
    }
   ],
   source: [
    #type your code here \n,
    type(income_in_dollars)
   ]
  },
  {
   cell_type: raw,
   metadata: {},
   source: [
    10) Print the type of Mr. Ahmed's weight. Convert the weight of Mr. Ahmed in kg so that weight must be a integer value. 
   ]
  },
  {
   cell_type: code,
   execution_count: 16,
   metadata: {},
   outputs: [
    {
     data: {
      text/plain: [
       int
      ]
     },
     execution_count: 16,
     metadata: {},
     output_type: execute_result
    }
   ],
   source: [
    #type your code here \n,
    type(weight)
   ]
  },
  {
   cell_type: raw,
   metadata: {},
   source: [
    11) print the year of birth of Mr. Ahmed.
   ]
  },
  {
   cell_type: code,
   execution_count: null,
   metadata: {},
   outputs: [],
   source: []
  },
  {
   cell_type: code,
   execution_count: 17,
   metadata: {},
   outputs: [
    {
     name: stdout,
     output_type: stream,
     text: [
      1992\n
     ]
    }
   ],
   source: [
    #type your code here\n,
    print(cy-age)
   ]
  },
  {
   cell_type: markdown,
   metadata: {},
   source: [
    12) Can Rs. 100 be divided equally among 6 students? \n,
    HINT: % operator
   ]
  },
  {
   cell_type: code,
   execution_count: 23,
   metadata: {},
   outputs: [
    {
     name: stdout,
     output_type: stream,
     text: [
      4\n
     ]
    }
   ],
   source: [
    #type your code here \n,
    sol = 100%6\n,
    print(sol)
   ]
  },
  {
   cell_type: code,
   execution_count: null,
   metadata: {},
   outputs: [],
   source: []
  }
 ],
 metadata: {
  kernelspec: {
   display_name: Python 3.10.1 64-bit,
   language: python,
   name: python3
  },
  language_info: {
   codemirror_mode: {
    name: ipython,
    version: 3
   },
   file_extension: .py,
   mimetype: text/x-python,
   name: python,
   nbconvert_exporter: python,
   pygments_lexer: ipython3,
   version: 3.10.1
  },
  vscode: {
   interpreter: {
    hash: fcdac387b723dab6cabf3be3f58bcaa9a14417ae421727ee28a12c9f5deacad3
   }
  }
 },
 nbformat: 4,
 nbformat_minor: 2
}
