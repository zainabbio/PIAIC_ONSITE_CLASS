{
 "cells": [
  {
   "cell_type": "markdown",
   "id": "f6519aad",
   "metadata": {},
   "source": [
    "# User input"
   ]
  },
  {
   "cell_type": "raw",
   "id": "948191fe",
   "metadata": {},
   "source": [
    "1. Take a sentence input from user using input function. Count occurence of a particular character/word in the sentence and print the message that the character appear this many times in the sentence.\n",
    "Like if user inputs> \"My name is Sana. I am an undergraduate student. I am learning Artificial Intellegence in PIAIC\"\n",
    "Your output should be:\n",
    "    I appears 5 times in your sentence\n",
    "Hint: nahi batounga use string methods.\n",
    "Note: Sana is a boy. His full name is SanaUllah😄"
   ]
  },
  {
   "cell_type": "code",
   "execution_count": 5,
   "id": "3cca72e8",
   "metadata": {},
   "outputs": [
    {
     "name": "stdout",
     "output_type": "stream",
     "text": [
      "Enter string here: I am Sajjal, I am doing BSCS from IUB , I am currently in 6th Semester, I have planned to chose the field of AIC ahead , I hope it would be good for me.\n",
      "I appears 7 times in your sentence!\n"
     ]
    }
   ],
   "source": [
    "sentence = input(\"Enter string here: \")\n",
    "counted = sentence.count(\"I\")\n",
    "print(f\"I appears {counted} times in your sentence!\")"
   ]
  },
  {
   "cell_type": "raw",
   "id": "bf6c3672",
   "metadata": {},
   "source": [
    "2. Take a number input from user and print the square of that number. \n",
    "\n",
    "if a user inputs 10 Your output should be like:\n",
    "    The square of 10 is 100\n",
    "if a user inputs 5 Your output should be like:\n",
    "    The square of 5 is 25\n",
    "if a user inputs 2 Your output should be like:\n",
    "    The square of 2 is 4\n"
   ]
  },
  {
   "cell_type": "code",
   "execution_count": 10,
   "id": "4ce54a1f",
   "metadata": {},
   "outputs": [
    {
     "name": "stdout",
     "output_type": "stream",
     "text": [
      "Enter any number: 12\n",
      "The square of 12 is 144\n"
     ]
    }
   ],
   "source": [
    "num = int(input(\"Enter any number: \"))\n",
    "print(f\"The square of {num} is {num ** 2}\")"
   ]
  },
  {
   "cell_type": "raw",
   "id": "0da0f529",
   "metadata": {},
   "source": [
    "3. Take two inputs from user using two input functions add these two numbers and print the result.\n",
    "For example if a user inputs 10 in first input, 20 in second input then your output mustbe like:\n",
    "    The sum of 10 and 20 is 30\n",
    "    \n",
    "For example if a user inputs 12 in first input, 30 in second input then your output mustbe like:\n",
    "    The sum of 12 and 30 is 42\n",
    "\n",
    "For example if a user inputs 100 in first input, 200 in second input then your out put mustbe like:\n",
    "    The sum of 100 and 200 is 300"
   ]
  },
  {
   "cell_type": "code",
   "execution_count": 12,
   "id": "5783c829",
   "metadata": {},
   "outputs": [
    {
     "name": "stdout",
     "output_type": "stream",
     "text": [
      "Enter any number 1: 60\n",
      "Enter any number 2: 49\n",
      "The sum of 60 and 49 is 109\n"
     ]
    }
   ],
   "source": [
    "num_1 = int(input(\"Enter any number 1: \"))\n",
    "num_2 = int(input(\"Enter any number 2: \"))\n",
    "sum = num_1 + num_2\n",
    "print(f\"The sum of {num_1} and {num_2} is {sum}\")"
   ]
  },
  {
   "cell_type": "raw",
   "id": "f957eb50",
   "metadata": {},
   "source": [
    "4. Format a string to display a card like string:\n",
    "    \n",
    "            Presidential Initiative for AI & Computing\n",
    "                          ID CARD\n",
    "            Student Name   : Asad Ali\n",
    "            Father Name    : Amjad Ali\n",
    "            Date of Birth  : 01-01-2000\n",
    "            Course Enrolled: Artificial Intelligence\n",
    "            Batch          : 2022\n",
    "            Day            : Saturday \n",
    "            Centre         : Sir Syed University of Engg and Technology\n",
    "                \n",
    "Note: all the field values must be taken as user inputs and stored in variable"
   ]
  },
  {
   "cell_type": "code",
   "execution_count": 16,
   "id": "b921104d",
   "metadata": {},
   "outputs": [
    {
     "name": "stdout",
     "output_type": "stream",
     "text": [
      "Enter your name please: Sajjal Malik\n",
      "Enter your father name please: H.Muhammad Ashiq (Late)\n",
      "Enter your Date of Birth: 10 - 07 - 2022\n",
      "Enter your course name: Artificial Intelligence and Computing\n",
      "Enter your batch: 2022\n",
      "Enter the day of your class session? Saturday or Sunday: Sunday\n",
      "Enter your center? Online or Physical: Online\n",
      " \n",
      " \n",
      " \t Presidential Initiative for AI & Computing\n",
      "                          ID CARD\n",
      "            Student Name   : Sajjal Malik\n",
      "            Father Name    : H.Muhammad Ashiq (Late)\n",
      "            Date of Birth  : 10 - 07 - 2022\n",
      "            Course Enrolled: Artificial Intelligence and Computing\n",
      "            Batch          : 2022\n",
      "            Day            : Sunday\n",
      "            Centre         : Online\n",
      "      \n"
     ]
    }
   ],
   "source": [
    "std_name = input(\"Enter your name please: \")\n",
    "fthr_name = input(\"Enter your father name please: \")\n",
    "dob = input(\"Enter your Date of Birth: \")\n",
    "course = input(\"Enter your course name: \")\n",
    "batch = int(input(\"Enter your batch: \"))\n",
    "class_day = input(\"Enter the day of your class session? Saturday or Sunday: \")\n",
    "centre = input(\"Enter your center? Online or Physical: \")\n",
    "\n",
    "print(f''' \\n \\n \\t Presidential Initiative for AI & Computing\n",
    "                          ID CARD\n",
    "            Student Name   : {std_name}\n",
    "            Father Name    : {fthr_name}\n",
    "            Date of Birth  : {dob}\n",
    "            Course Enrolled: {course}\n",
    "            Batch          : {batch}\n",
    "            Day            : {class_day}\n",
    "            Centre         : {centre}\n",
    "      ''')"
   ]
  },
  {
   "cell_type": "code",
   "execution_count": null,
   "id": "1507d586",
   "metadata": {},
   "outputs": [],
   "source": []
  }
 ],
 "metadata": {
  "kernelspec": {
   "display_name": "Python 3 (ipykernel)",
   "language": "python",
   "name": "python3"
  },
  "language_info": {
   "codemirror_mode": {
    "name": "ipython",
    "version": 3
   },
   "file_extension": ".py",
   "mimetype": "text/x-python",
   "name": "python",
   "nbconvert_exporter": "python",
   "pygments_lexer": "ipython3",
   "version": "3.9.12"
  }
 },
 "nbformat": 4,
 "nbformat_minor": 5
}
