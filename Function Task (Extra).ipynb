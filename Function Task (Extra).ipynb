{
 "cells": [
  {
   "cell_type": "code",
   "execution_count": null,
   "id": "09082900",
   "metadata": {},
   "outputs": [],
   "source": [
    "# 1. Write a Python function to find the Max of three numbers. "
   ]
  },
  {
   "cell_type": "code",
   "execution_count": 38,
   "id": "ed4bd92f",
   "metadata": {},
   "outputs": [
    {
     "name": "stdout",
     "output_type": "stream",
     "text": [
      "90\n"
     ]
    }
   ],
   "source": [
    "def max(list_1):\n",
    "\n",
    "    var = list_1[0]\n",
    "    for n in list_1:\n",
    "        if var < n:\n",
    "            var = n\n",
    "    return var\n",
    "\n",
    "array = [56,78,90]\n",
    "\n",
    "print(max(array))"
   ]
  },
  {
   "cell_type": "code",
   "execution_count": null,
   "id": "f78a3c87",
   "metadata": {},
   "outputs": [],
   "source": [
    "\n",
    "2. Write a Python function to sum all the numbers in a list. Go to the editor\n",
    "Sample List : (8, 2, 3, 0, 7)\n",
    "Expected Output : 20\n"
   ]
  },
  {
   "cell_type": "code",
   "execution_count": 37,
   "id": "55bf6b2b",
   "metadata": {},
   "outputs": [
    {
     "name": "stdout",
     "output_type": "stream",
     "text": [
      "Enter list numbers comma seperated: 1,2,3,4,5\n",
      "15\n"
     ]
    }
   ],
   "source": [
    "def sum_of_list(lst):\n",
    "    sum = 0\n",
    "    for l in lst:\n",
    "        sum += l\n",
    "    return sum\n",
    "\n",
    "lst_1 = [int(i) for i in input(\"Enter list numbers comma seperated: \").split(\",\")]\n",
    "\n",
    "print(sum_of_list(lst_1))"
   ]
  },
  {
   "cell_type": "code",
   "execution_count": null,
   "id": "c68ea34b",
   "metadata": {},
   "outputs": [],
   "source": [
    "3. Write a Python function to multiply all the numbers in a list. Go to the editor\n",
    "Sample List : (8, 2, 3, -1, 7)\n",
    "Expected Output : -336\n"
   ]
  },
  {
   "cell_type": "code",
   "execution_count": 20,
   "id": "3d9acbbb",
   "metadata": {},
   "outputs": [
    {
     "name": "stdout",
     "output_type": "stream",
     "text": [
      "Enter list numbers comma seperated: 7,8,10\n",
      "560\n"
     ]
    }
   ],
   "source": [
    "def multiply_of_list(new_lst):\n",
    "    mul = 1\n",
    "    for m in new_lst:\n",
    "        mul *= m\n",
    "    return mul\n",
    "\n",
    "lst_2 = [int(i) for i in input(\"Enter list numbers comma seperated: \").split(\",\")]\n",
    "\n",
    "print(multiply_of_list(lst_2))"
   ]
  },
  {
   "cell_type": "code",
   "execution_count": null,
   "id": "496711f8",
   "metadata": {},
   "outputs": [],
   "source": [
    "\n",
    "\n",
    "4. Write a Python program to reverse a string.\n",
    "Sample String : \"1234abcd\"\n",
    "Expected Output : \"dcba4321\"\n"
   ]
  },
  {
   "cell_type": "code",
   "execution_count": 22,
   "id": "c7f49f3c",
   "metadata": {},
   "outputs": [
    {
     "name": "stdout",
     "output_type": "stream",
     "text": [
      "kilaM lajjaS\n"
     ]
    }
   ],
   "source": [
    "def reverse_str(string):\n",
    "    return string[::-1]\n",
    "\n",
    "print(reverse_str(\"Sajjal Malik\"))"
   ]
  },
  {
   "cell_type": "code",
   "execution_count": null,
   "id": "51c0b4f4",
   "metadata": {},
   "outputs": [],
   "source": [
    "\n",
    "\n",
    "5. Write a Python function to calculate the factorial of a number (a non-negative integer). The function accepts the number \n",
    "as an argument. \n"
   ]
  },
  {
   "cell_type": "code",
   "execution_count": 24,
   "id": "2981230c",
   "metadata": {},
   "outputs": [
    {
     "name": "stdout",
     "output_type": "stream",
     "text": [
      "Enter the number you want the factorial of: 5\n",
      "The factorial of 5 is 120\n"
     ]
    }
   ],
   "source": [
    "def factorial(num):\n",
    "    factorial = 1\n",
    "    # check if the number is negative, positive or zero\n",
    "    if num < 0:\n",
    "        print(\"Sorry, factorial does not exist for negative numbers\")\n",
    "    elif num == 0:\n",
    "        print(\"The factorial of 0 is 1\")\n",
    "    else:\n",
    "        for i in range(1,num + 1):\n",
    "            factorial = factorial*i\n",
    "        print(\"The factorial of\",num,\"is\",factorial)\n",
    "\n",
    "num = input(\"Enter the number you want the factorial of: \")\n",
    "\n",
    "factorial(int(num))"
   ]
  },
  {
   "cell_type": "code",
   "execution_count": null,
   "id": "9993a80a",
   "metadata": {},
   "outputs": [],
   "source": [
    "6. Write a Python function to check whether a number falls in a given range. "
   ]
  },
  {
   "cell_type": "code",
   "execution_count": 34,
   "id": "aaf25850",
   "metadata": {},
   "outputs": [
    {
     "name": "stdout",
     "output_type": "stream",
     "text": [
      "Enter the number to check: 79\n",
      " 79 is in the range\n"
     ]
    }
   ],
   "source": [
    "def num_range(n):\n",
    "    if n in range(45,100):\n",
    "        print( \" %s is in the range%str(n))  #here I have used format specifier also supported in C Language\n",
    "    else :\n",
    "        print(\"The number is outside the given range.\")\n",
    "        \n",
    "num_range(int(input(\"Enter the number to check: \")))"
   ]
  },
  {
   "cell_type": "code",
   "execution_count": null,
   "id": "29e26db0",
   "metadata": {},
   "outputs": [],
   "source": [
    "7. Write a Python function that accepts a string and calculate the number of upper case letters and lower case letters. \n",
    "Sample String : 'The quick Brow Fox'\n",
    "Expected Output :\n",
    "No. of Upper case characters : 3\n",
    "No. of Lower case Characters : 12\n"
   ]
  },
  {
   "cell_type": "code",
   "execution_count": 60,
   "id": "4ee3a7a6",
   "metadata": {},
   "outputs": [
    {
     "name": "stdout",
     "output_type": "stream",
     "text": [
      "No. of Upper case characters : 4\n",
      "No. of Lower case characters : 12\n"
     ]
    }
   ],
   "source": [
    "def mystring(strng):\n",
    "    count1 = 0\n",
    "    count2 = 0\n",
    "    for s in strng:\n",
    "        if s.isupper():\n",
    "            count1 = count1 + 1\n",
    "        elif s.islower():\n",
    "            count2 = count2 + 1\n",
    "        \n",
    "    print(f\"No. of Upper case characters : {count1}\")\n",
    "    print(f\"No. of Lower case characters : {count2}\")\n",
    "\n",
    "mystring(\"The Quick Brown Fox\")"
   ]
  },
  {
   "cell_type": "code",
   "execution_count": null,
   "id": "e4fe12f1",
   "metadata": {},
   "outputs": [],
   "source": [
    "8. Write a Python function that takes a list and returns a new list with unique elements of the first list. \n",
    "Sample List : [1,2,3,3,3,3,4,5]\n",
    "Unique List : [1, 2, 3, 4, 5]\n"
   ]
  },
  {
   "cell_type": "code",
   "execution_count": 64,
   "id": "28af2faf",
   "metadata": {},
   "outputs": [
    {
     "name": "stdout",
     "output_type": "stream",
     "text": [
      "Enter commad sep numbers: 1,2,3,3,3,3,4,5\n"
     ]
    },
    {
     "data": {
      "text/plain": [
       "[1, 2, 3, 4, 5]"
      ]
     },
     "execution_count": 64,
     "metadata": {},
     "output_type": "execute_result"
    }
   ],
   "source": [
    "def unique_ls(lst):\n",
    "    return list(set(lst))\n",
    "\n",
    "new_lst = [int(i) for i in input(\"Enter commad sep numbers: \").split(\",\")]\n",
    "\n",
    "unique_ls(new_lst)"
   ]
  },
  {
   "cell_type": "code",
   "execution_count": null,
   "id": "7347b95c",
   "metadata": {},
   "outputs": [],
   "source": [
    "9. Write a Python function that takes a number as a parameter and check the number is prime or not. \n",
    "Note : A prime number (or a prime) is a natural number greater than 1 and that has no positive divisors other than 1 and itself.\n",
    "\n",
    "    "
   ]
  },
  {
   "cell_type": "code",
   "execution_count": 18,
   "id": "95630651",
   "metadata": {},
   "outputs": [
    {
     "name": "stdout",
     "output_type": "stream",
     "text": [
      "29 is a prime number!\n"
     ]
    }
   ],
   "source": [
    "def prime(n):\n",
    "    if n >= 1:\n",
    "        for i in range(2, n):\n",
    "            if n % i == 0:\n",
    "                print(n,\"is not a prime number!\")\n",
    "                break\n",
    "            else:\n",
    "                if n == 1:\n",
    "                    print(n,\"is not prime because a prime number must have two factors\")\n",
    "                    break\n",
    "                print(n,\"is a prime number!\")\n",
    "                break\n",
    "                \n",
    "prime(29)"
   ]
  },
  {
   "cell_type": "code",
   "execution_count": null,
   "id": "8ce33900",
   "metadata": {},
   "outputs": [],
   "source": [
    "10. Write a Python program to print the even numbers from a given list. \n",
    "Sample List : [1, 2, 3, 4, 5, 6, 7, 8, 9]\n",
    "Expected Result : [2, 4, 6, 8]"
   ]
  },
  {
   "cell_type": "code",
   "execution_count": 36,
   "id": "daf1fd78",
   "metadata": {},
   "outputs": [
    {
     "name": "stdout",
     "output_type": "stream",
     "text": [
      "Enter list numbers: 1,2,3,4,5,6,7,8,9\n"
     ]
    },
    {
     "data": {
      "text/plain": [
       "[2, 4, 6, 8]"
      ]
     },
     "execution_count": 36,
     "metadata": {},
     "output_type": "execute_result"
    }
   ],
   "source": [
    "def even_num_list(list_of_numbers):\n",
    "    return [l for l in list_of_numbers if l % 2 == 0]\n",
    "\n",
    "inp = [int(i) for i in input(\"Enter list numbers: \").split(\",\")]\n",
    "\n",
    "even_num_list(inp)"
   ]
  },
  {
   "cell_type": "code",
   "execution_count": null,
   "id": "94f7009e",
   "metadata": {},
   "outputs": [],
   "source": []
  }
 ],
 "metadata": {
  "kernelspec": {
   "display_name": "Python 3 (ipykernel)",
   "language": "python",
   "name": "python3"
  },
  "language_info": {
   "codemirror_mode": {
    "name": "ipython",
    "version": 3
   },
   "file_extension": ".py",
   "mimetype": "text/x-python",
   "name": "python",
   "nbconvert_exporter": "python",
   "pygments_lexer": "ipython3",
   "version": "3.9.12"
  }
 },
 "nbformat": 4,
 "nbformat_minor": 5
}
